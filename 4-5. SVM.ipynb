{
 "cells": [
  {
   "cell_type": "code",
   "execution_count": 1,
   "metadata": {},
   "outputs": [
    {
     "name": "stdout",
     "output_type": "stream",
     "text": [
      "ok {'thin': 6276, 'normal': 6019, 'fat': 7705}\n"
     ]
    }
   ],
   "source": [
    "#BMI sample data 생성\n",
    "import random\n",
    "\n",
    "#BMI 계산 후 레이블 리턴\n",
    "def calc_bmi(h,w):\n",
    "    bmi=w/(h/100)**2\n",
    "    if bmi < 18.5: return \"thin\"\n",
    "    if bmi < 25 : return \"normal\"\n",
    "    else : return \"fat\"\n",
    "\n",
    "#출력파일 준비\n",
    "fp=open(\"bmi.csv\", \"w\", encoding='utf-8')\n",
    "fp.write(\"height,weight,label\\r\\n\")\n",
    "\n",
    "#무작위 데이터 생성\n",
    "cnt={\"thin\":0, \"normal\":0, \"fat\":0}\n",
    "for i in range(20000):\n",
    "    h=random.randint(120,200)\n",
    "    w=random.randint(35,80)\n",
    "    label=calc_bmi(h,w)\n",
    "    cnt[label]+=1 #label = thin, normal, fat 등\n",
    "    fp.write(\"{0},{1},{2}\\r\\n\".format(h,w,label))\n",
    "    \n",
    "fp.close()\n",
    "print(\"ok\",cnt) \n"
   ]
  },
  {
   "cell_type": "code",
   "execution_count": 2,
   "metadata": {},
   "outputs": [
    {
     "name": "stdout",
     "output_type": "stream",
     "text": [
      "정답률= 1.0\n",
      "리포트=\n",
      "              precision    recall  f1-score   support\n",
      "\n",
      "        fat       1.00      1.00      1.00      1964\n",
      "     normal       1.00      1.00      1.00      1502\n",
      "       thin       1.00      1.00      1.00      1534\n",
      "\n",
      "avg / total       1.00      1.00      1.00      5000\n",
      "\n",
      "start_time 1540887410.141516\n",
      "--- 8.042210102081299 seconds ---\n"
     ]
    }
   ],
   "source": [
    "#bmi.csv data로 svm 분류\n",
    "from sklearn import svm, metrics\n",
    "from sklearn.model_selection import train_test_split\n",
    "import matplotlib.pyplot as plt\n",
    "import pandas as pd\n",
    "import time\n",
    "start_time=time.time()\n",
    "\n",
    "\n",
    "#키와 몸무게 데이터 읽어들이기\n",
    "df=pd.read_csv(\"bmi.csv\")\n",
    "\n",
    "#칼럼을 자르고 정규화하기\n",
    "label=df[\"label\"]\n",
    "w=df[\"weight\"]\n",
    "h=df[\"height\"]\n",
    "wh=pd.concat([w,h],axis=1) #데이터프레임 합치기 ###정규화가 어디서 일어난거?\n",
    "\n",
    "#학습 전용 데이터와 테스트 전용 데이터로 나누기\n",
    "data_train, data_test, label_train, label_test = train_test_split(wh,label)\n",
    "\n",
    "#데이터 학습하기\n",
    "clf=svm.SVC() #support vector classification\n",
    "clf.fit(data_train, label_train)\n",
    "\n",
    "#데이터 예측하기\n",
    "predict=clf.predict(data_test)\n",
    "\n",
    "#결과 테스트하기 \n",
    "ac_score=metrics.accuracy_score(label_test, predict)\n",
    "cl_report=metrics.classification_report(label_test, predict)\n",
    "print(\"정답률=\", ac_score)\n",
    "print(\"리포트=\\n\", cl_report)\n",
    "\n",
    "\n",
    "#시간종료코드\n",
    "print(\"start_time\", start_time) \n",
    "print(\"--- %s seconds ---\" %(time.time() - start_time))"
   ]
  },
  {
   "cell_type": "code",
   "execution_count": 6,
   "metadata": {},
   "outputs": [
    {
     "data": {
      "image/png": "[encoded data removed]",
      "text/plain": [
       "<Figure size 432x288 with 1 Axes>"
      ]
     },
     "metadata": {},
     "output_type": "display_data"
    }
   ],
   "source": [
    "import matplotlib.pyplot as plt\n",
    "import pandas as pd\n",
    "\n",
    "#csv load\n",
    "df=pd.read_csv(\"bmi.csv\", index_col=2)\n",
    "\n",
    "#그래프 그리기 시작\n",
    "fig=plt.figure()\n",
    "ax=fig.add_subplot(1,1,1)\n",
    "\n",
    "#서브 플롯 전용 - 지정한 레이블을 임의의 색으로 칠하기\n",
    "def scatter(lbl, color):\n",
    "    b=df.loc[lbl]\n",
    "    ax.scatter(b[\"weight\"], b[\"height\"],c=color, label=lbl)\n",
    "    \n",
    "scatter(\"fat\",\"red\")\n",
    "scatter(\"normal\",\"yellow\")\n",
    "scatter(\"thin\", \"purple\")\n",
    "\n",
    "ax.legend()\n",
    "plt.savefig(\"bmi-test.png\")\n",
    "plt.show()"
   ]
  },
  {
   "cell_type": "code",
   "execution_count": null,
   "metadata": {},
   "outputs": [],
   "source": []
  }
 ],
 "metadata": {
  "kernelspec": {
   "display_name": "Python 3",
   "language": "python",
   "name": "python3"
  },
  "language_info": {
   "codemirror_mode": {
    "name": "ipython",
    "version": 3
   },
   "file_extension": ".py",
   "mimetype": "text/x-python",
   "name": "python",
   "nbconvert_exporter": "python",
   "pygments_lexer": "ipython3",
   "version": "3.6.6"
  }
 },
 "nbformat": 4,
 "nbformat_minor": 2
}
