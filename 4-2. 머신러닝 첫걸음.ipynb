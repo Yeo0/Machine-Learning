{
 "cells": [
  {
   "cell_type": "code",
   "execution_count": null,
   "metadata": {},
   "outputs": [],
   "source": [
    "from sklearn import svm\n",
    "\n",
    "clf=svm.SVC()\n",
    "clf.fit(학습시킬 데이터,답) \n",
    "result=clf.predict(답을 얻고싶은 데이터)\n",
    "print(result)"
   ]
  },
  {
   "cell_type": "code",
   "execution_count": 2,
   "metadata": {},
   "outputs": [
    {
     "name": "stdout",
     "output_type": "stream",
     "text": [
      "예측결과:  [0 1 1 0]\n",
      "정답률:  4 / 4 = 1.0\n"
     ]
    }
   ],
   "source": [
    "#fit()-학습 기계에 데이터를 학습\n",
    "#predict()- 데이터를 넣어 예측\n",
    "from sklearn import svm\n",
    "\n",
    "clf=svm.SVC()\n",
    "clf.fit(학습시킬 데이터,답) \n",
    "result=clf.predict(답을 얻고싶은 데이터)\n",
    "print(result)\n",
    "from sklearn import svm\n",
    "\n",
    "#XOR계산 데이터\n",
    "xor_data=[\n",
    "    # P,Q, result\n",
    "    [0,0,0],\n",
    "    [0,1,1],\n",
    "    [1,0,1],\n",
    "    [1,1,0]\n",
    "]\n",
    "\n",
    "#학습을 위한 데이터와 label 분리 (fit 데이터의 매개변수 맞추기 위해)\n",
    "data=[]\n",
    "label=[]\n",
    "for row in xor_data:\n",
    "    p=row[0]\n",
    "    q=row[1]\n",
    "    r=row[2]\n",
    "    data.append([p,q])\n",
    "    label.append(r)\n",
    "    \n",
    "#데이터 학습\n",
    "clf=svm.SVC()\n",
    "clf.fit(data,label) #데이터,예측\n",
    "\n",
    "#데이터 예측\n",
    "pre=clf.predict(data) #예측하고 싶은 데이터 배열 전달 -> 데이터 수만큼 예측 결과 리턴\n",
    "print(\"예측결과: \",pre)\n",
    "\n",
    "#결과 확인\n",
    "ok=0\n",
    "total=0\n",
    "\n",
    "for index, answer in enumerate(label):\n",
    "    p=pre[index]\n",
    "    if p== answer:\n",
    "        ok+=1\n",
    "    total+=1\n",
    "print(\"정답률: \",ok, \"/\", total,\"=\",ok/total)"
   ]
  },
  {
   "cell_type": "code",
   "execution_count": 5,
   "metadata": {},
   "outputs": [
    {
     "name": "stdout",
     "output_type": "stream",
     "text": [
      "정답률= 1.0\n"
     ]
    },
    {
     "name": "stderr",
     "output_type": "stream",
     "text": [
      "/anaconda3/lib/python3.6/site-packages/ipykernel_launcher.py:13: DeprecationWarning: \n",
      ".ix is deprecated. Please use\n",
      ".loc for label based indexing or\n",
      ".iloc for positional indexing\n",
      "\n",
      "See the documentation here:\n",
      "http://pandas.pydata.org/pandas-docs/stable/indexing.html#ix-indexer-is-deprecated\n",
      "  del sys.path[0]\n",
      "/anaconda3/lib/python3.6/site-packages/ipykernel_launcher.py:14: DeprecationWarning: \n",
      ".ix is deprecated. Please use\n",
      ".loc for label based indexing or\n",
      ".iloc for positional indexing\n",
      "\n",
      "See the documentation here:\n",
      "http://pandas.pydata.org/pandas-docs/stable/indexing.html#ix-indexer-is-deprecated\n",
      "  \n"
     ]
    }
   ],
   "source": [
    "#정답률 쉽게 구하기\n",
    "\n",
    "import pandas as pd\n",
    "from sklearn import svm, metrics\n",
    "\n",
    "xor_input=[\n",
    "    # P,Q, result\n",
    "    [0,0,0],\n",
    "    [0,1,1],\n",
    "    [1,0,1],\n",
    "    [1,1,0]\n",
    "]\n",
    "\n",
    "xor_df=pd.DataFrame(xor_input)\n",
    "xor_data=xor_df.ix[:,0:1] #데이터\n",
    "xor_label=xor_df.ix[:,2] #레이블\n",
    "\n",
    "#데이터 학습과 예측하기\n",
    "clf=svm.SVC()\n",
    "clf.fit(xor_data, xor_label) #학습\n",
    "pre=clf.predict(xor_data) #예측\n",
    "\n",
    "#정답률 구하기\n",
    "#metrics.accuracy_score(진짜 답, 예측했던 결과)\n",
    "ac_score=metrics.accuracy_score(xor_label,pre)\n",
    "print(\"정답률=\",ac_score)"
   ]
  },
  {
   "cell_type": "code",
   "execution_count": 5,
   "metadata": {},
   "outputs": [
    {
     "name": "stdout",
     "output_type": "stream",
     "text": [
      "정답률= 0.98\n"
     ]
    }
   ],
   "source": [
    "from sklearn import svm,metrics\n",
    "import random, re\n",
    "\n",
    "#iris data load\n",
    "csv=[]\n",
    "with open('iris.csv','r', encoding='utf-8') as fp:\n",
    "    #한 줄 씩 읽기\n",
    "    for line in fp:\n",
    "        line=line.strip() #줄바꿈 제거\n",
    "        cols=line.split(',') #쉼표로 자르기\n",
    "        \n",
    "        #문자열 데이터를 숫자로 변환\n",
    "        fn=lambda n : float(n) if re.match(r'^[0-9\\.]+$', n) else n #정규표현식?\n",
    "        cols=list(map(fn, cols)) #리스트 내부의 모든 값 변환\n",
    "        \n",
    "        csv.append(cols)\n",
    "        \n",
    "#가장 앞 줄의 헤더 제거\n",
    "del csv[0]\n",
    "\n",
    "\n",
    "#데이터 셔플하기(섞기)\n",
    "random.shuffle(csv)\n",
    "\n",
    "#학습 전용 데이터와 테스트 전용 데이터 분할하기 (2:1 비율)\n",
    "total_len=len(csv)\n",
    "train_len=int(total_len *2 / 3)\n",
    "train_data=[]\n",
    "train_label=[]\n",
    "test_data=[]\n",
    "test_label=[]\n",
    "\n",
    "\n",
    "for i in range(total_len):\n",
    "    data=csv[i][0:4]\n",
    "    label=csv[i][4]\n",
    "    if i < train_len:\n",
    "        train_data.append(data)\n",
    "        train_label.append(label)\n",
    "    else:\n",
    "        test_data.append(data)\n",
    "        test_label.append(label)\n",
    "        \n",
    "#데이터를 학습시키고 예측하기\n",
    "clf=svm.SVC()\n",
    "clf.fit(train_data,train_label) \n",
    "pre=clf.predict(test_data)\n",
    "\n",
    "#정답률 구하기\n",
    "ac_score=metrics.accuracy_score(test_label, pre)\n",
    "print(\"정답률=\", ac_score)"
   ]
  },
  {
   "cell_type": "code",
   "execution_count": null,
   "metadata": {},
   "outputs": [],
   "source": [
    "#모르는 값을 넣었을 때\n",
    "import pandas as pd\n",
    "from sklearn import svm, metrics\n",
    "from sklearn.model_selection import train_test_split\n",
    "\n",
    "#붓꽃의 csv 데이터 읽어 들이기\n",
    "csv=pd.read_csv('iris.csv')\n",
    "\n",
    "#필요한 열 추출\n",
    "csv_data=csv[[\"SepalLength\",\"SepalWidth\",\"PetalLength\",\"PetalWidth\"]]#####이중리스트\n",
    "csv_label=csv[\"Name\"]\n",
    "\n",
    "\n",
    "#데이터 학습시키고 예측하기\n",
    "clf=svm.SVC()\n",
    "clf.fit(csv_data, csv_label)\n",
    "pre=clf.predict([[5.1,3.0,1.3,0.2]]) #데이터에 없는 값 예측\n",
    "print(pre)\n"
   ]
  },
  {
   "cell_type": "code",
   "execution_count": 9,
   "metadata": {},
   "outputs": [
    {
     "name": "stdout",
     "output_type": "stream",
     "text": [
      "정답률= 0.9473684210526315\n"
     ]
    }
   ],
   "source": [
    "#train, test set 분류\n",
    "import pandas as pd\n",
    "from sklearn import svm, metrics\n",
    "from sklearn.model_selection import train_test_split\n",
    "\n",
    "#붓꽃의 csv 데이터 읽어 들이기\n",
    "csv=pd.read_csv('iris.csv')\n",
    "\n",
    "#필요한 열 추출\n",
    "csv_data=csv[[\"SepalLength\",\"SepalWidth\",\"PetalLength\",\"PetalWidth\"]]\n",
    "csv_label=csv[\"Name\"]\n",
    "\n",
    "#학습 전용 데이터와 테스트 전용 데이터로 나누기\n",
    "train_data, test_data, train_label, test_label = train_test_split(csv_data, csv_label)\n",
    "\n",
    "#데이터 학습시키고 예측하기\n",
    "clf=svm.SVC()\n",
    "clf.fit(train_data, train_label)\n",
    "pre=clf.predict(test_data)\n",
    "\n",
    "#정답률 구하기\n",
    "ac_score=metrics.accuracy_score(test_label, pre)\n",
    "print('정답률=',ac_score) # 정답률을 통해 실제 꽃잎과 꽃받침의 크기,너비와 품종구분의 연관성을 파악할 수 있음"
   ]
  }
 ],
 "metadata": {
  "kernelspec": {
   "display_name": "Python 3",
   "language": "python",
   "name": "python3"
  },
  "language_info": {
   "codemirror_mode": {
    "name": "ipython",
    "version": 3
   },
   "file_extension": ".py",
   "mimetype": "text/x-python",
   "name": "python",
   "nbconvert_exporter": "python",
   "pygments_lexer": "ipython3",
   "version": "3.6.6"
  }
 },
 "nbformat": 4,
 "nbformat_minor": 2
}
